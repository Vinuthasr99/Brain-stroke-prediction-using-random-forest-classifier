{
 "cells": [
  {
   "cell_type": "code",
   "execution_count": 1,
   "metadata": {
    "_cell_guid": "b1076dfc-b9ad-4769-8c92-a6c4dae69d19",
    "_uuid": "8f2839f25d086af736a60e9eeb907d3b93b6e0e5",
    "execution": {
     "iopub.execute_input": "2022-08-05T10:32:09.479182Z",
     "iopub.status.busy": "2022-08-05T10:32:09.478764Z",
     "iopub.status.idle": "2022-08-05T10:32:09.491327Z",
     "shell.execute_reply": "2022-08-05T10:32:09.489718Z",
     "shell.execute_reply.started": "2022-08-05T10:32:09.479152Z"
    }
   },
   "outputs": [],
   "source": [
    "# This Python 3 environment comes with many helpful analytics libraries installed\n",
    "# It is defined by the kaggle/python Docker image: https://github.com/kaggle/docker-python\n",
    "# For example, here's several helpful packages to load\n",
    "\n",
    "import numpy as np # linear algebra\n",
    "import pandas as pd # data processing, CSV file I/O (e.g. pd.read_csv)\n",
    "\n",
    "# Input data files are available in the read-only \"../input/\" directory\n",
    "# For example, running this (by clicking run or pressing Shift+Enter) will list all files under the input directory\n",
    "\n",
    "import os\n",
    "for dirname, _, filenames in os.walk('/kaggle/input'):\n",
    "    for filename in filenames:\n",
    "        print(os.path.join(dirname, filename))\n",
    "\n",
    "# You can write up to 20GB to the current directory (/kaggle/working/) that gets preserved as output when you create a version using \"Save & Run All\" \n",
    "# You can also write temporary files to /kaggle/temp/, but they won't be saved outside of the current session"
   ]
  },
  {
   "cell_type": "code",
   "execution_count": 5,
   "metadata": {
    "execution": {
     "iopub.execute_input": "2022-08-05T10:32:09.529763Z",
     "iopub.status.busy": "2022-08-05T10:32:09.528816Z",
     "iopub.status.idle": "2022-08-05T10:32:09.536143Z",
     "shell.execute_reply": "2022-08-05T10:32:09.534953Z",
     "shell.execute_reply.started": "2022-08-05T10:32:09.529723Z"
    }
   },
   "outputs": [],
   "source": [
    "import pandas as pd\n",
    "import numpy as np\n",
    "import matplotlib.pyplot as plt\n",
    "from sklearn.preprocessing import StandardScaler\n",
    "import seaborn as sns\n",
    "sns.set(style=\"darkgrid\")"
   ]
  },
  {
   "cell_type": "code",
   "execution_count": 8,
   "metadata": {
    "execution": {
     "iopub.execute_input": "2022-08-05T10:32:09.579026Z",
     "iopub.status.busy": "2022-08-05T10:32:09.578267Z",
     "iopub.status.idle": "2022-08-05T10:32:09.597492Z",
     "shell.execute_reply": "2022-08-05T10:32:09.595845Z",
     "shell.execute_reply.started": "2022-08-05T10:32:09.578987Z"
    }
   },
   "outputs": [],
   "source": [
    "all_data = pd.read_csv(\"F:/data science/brain stroke prediction/data.csv\")"
   ]
  },
  {
   "cell_type": "code",
   "execution_count": 9,
   "metadata": {
    "execution": {
     "iopub.execute_input": "2022-08-05T10:32:09.635923Z",
     "iopub.status.busy": "2022-08-05T10:32:09.635497Z",
     "iopub.status.idle": "2022-08-05T10:32:09.667878Z",
     "shell.execute_reply": "2022-08-05T10:32:09.666109Z",
     "shell.execute_reply.started": "2022-08-05T10:32:09.635889Z"
    }
   },
   "outputs": [
    {
     "data": {
      "text/html": [
       "<div>\n",
       "<style scoped>\n",
       "    .dataframe tbody tr th:only-of-type {\n",
       "        vertical-align: middle;\n",
       "    }\n",
       "\n",
       "    .dataframe tbody tr th {\n",
       "        vertical-align: top;\n",
       "    }\n",
       "\n",
       "    .dataframe thead th {\n",
       "        text-align: right;\n",
       "    }\n",
       "</style>\n",
       "<table border=\"1\" class=\"dataframe\">\n",
       "  <thead>\n",
       "    <tr style=\"text-align: right;\">\n",
       "      <th></th>\n",
       "      <th>gender</th>\n",
       "      <th>age</th>\n",
       "      <th>hypertension</th>\n",
       "      <th>heart_disease</th>\n",
       "      <th>ever_married</th>\n",
       "      <th>work_type</th>\n",
       "      <th>Residence_type</th>\n",
       "      <th>avg_glucose_level</th>\n",
       "      <th>bmi</th>\n",
       "      <th>smoking_status</th>\n",
       "      <th>stroke</th>\n",
       "    </tr>\n",
       "  </thead>\n",
       "  <tbody>\n",
       "    <tr>\n",
       "      <th>0</th>\n",
       "      <td>Male</td>\n",
       "      <td>67.0</td>\n",
       "      <td>0</td>\n",
       "      <td>1</td>\n",
       "      <td>Yes</td>\n",
       "      <td>Private</td>\n",
       "      <td>Urban</td>\n",
       "      <td>228.69</td>\n",
       "      <td>36.6</td>\n",
       "      <td>formerly smoked</td>\n",
       "      <td>1</td>\n",
       "    </tr>\n",
       "    <tr>\n",
       "      <th>1</th>\n",
       "      <td>Male</td>\n",
       "      <td>80.0</td>\n",
       "      <td>0</td>\n",
       "      <td>1</td>\n",
       "      <td>Yes</td>\n",
       "      <td>Private</td>\n",
       "      <td>Rural</td>\n",
       "      <td>105.92</td>\n",
       "      <td>32.5</td>\n",
       "      <td>never smoked</td>\n",
       "      <td>1</td>\n",
       "    </tr>\n",
       "    <tr>\n",
       "      <th>2</th>\n",
       "      <td>Female</td>\n",
       "      <td>49.0</td>\n",
       "      <td>0</td>\n",
       "      <td>0</td>\n",
       "      <td>Yes</td>\n",
       "      <td>Private</td>\n",
       "      <td>Urban</td>\n",
       "      <td>171.23</td>\n",
       "      <td>34.4</td>\n",
       "      <td>smokes</td>\n",
       "      <td>1</td>\n",
       "    </tr>\n",
       "    <tr>\n",
       "      <th>3</th>\n",
       "      <td>Female</td>\n",
       "      <td>79.0</td>\n",
       "      <td>1</td>\n",
       "      <td>0</td>\n",
       "      <td>Yes</td>\n",
       "      <td>Self-employed</td>\n",
       "      <td>Rural</td>\n",
       "      <td>174.12</td>\n",
       "      <td>24.0</td>\n",
       "      <td>never smoked</td>\n",
       "      <td>1</td>\n",
       "    </tr>\n",
       "    <tr>\n",
       "      <th>4</th>\n",
       "      <td>Male</td>\n",
       "      <td>81.0</td>\n",
       "      <td>0</td>\n",
       "      <td>0</td>\n",
       "      <td>Yes</td>\n",
       "      <td>Private</td>\n",
       "      <td>Urban</td>\n",
       "      <td>186.21</td>\n",
       "      <td>29.0</td>\n",
       "      <td>formerly smoked</td>\n",
       "      <td>1</td>\n",
       "    </tr>\n",
       "    <tr>\n",
       "      <th>...</th>\n",
       "      <td>...</td>\n",
       "      <td>...</td>\n",
       "      <td>...</td>\n",
       "      <td>...</td>\n",
       "      <td>...</td>\n",
       "      <td>...</td>\n",
       "      <td>...</td>\n",
       "      <td>...</td>\n",
       "      <td>...</td>\n",
       "      <td>...</td>\n",
       "      <td>...</td>\n",
       "    </tr>\n",
       "    <tr>\n",
       "      <th>4976</th>\n",
       "      <td>Male</td>\n",
       "      <td>41.0</td>\n",
       "      <td>0</td>\n",
       "      <td>0</td>\n",
       "      <td>No</td>\n",
       "      <td>Private</td>\n",
       "      <td>Rural</td>\n",
       "      <td>70.15</td>\n",
       "      <td>29.8</td>\n",
       "      <td>formerly smoked</td>\n",
       "      <td>0</td>\n",
       "    </tr>\n",
       "    <tr>\n",
       "      <th>4977</th>\n",
       "      <td>Male</td>\n",
       "      <td>40.0</td>\n",
       "      <td>0</td>\n",
       "      <td>0</td>\n",
       "      <td>Yes</td>\n",
       "      <td>Private</td>\n",
       "      <td>Urban</td>\n",
       "      <td>191.15</td>\n",
       "      <td>31.1</td>\n",
       "      <td>smokes</td>\n",
       "      <td>0</td>\n",
       "    </tr>\n",
       "    <tr>\n",
       "      <th>4978</th>\n",
       "      <td>Female</td>\n",
       "      <td>45.0</td>\n",
       "      <td>1</td>\n",
       "      <td>0</td>\n",
       "      <td>Yes</td>\n",
       "      <td>Govt_job</td>\n",
       "      <td>Rural</td>\n",
       "      <td>95.02</td>\n",
       "      <td>31.8</td>\n",
       "      <td>smokes</td>\n",
       "      <td>0</td>\n",
       "    </tr>\n",
       "    <tr>\n",
       "      <th>4979</th>\n",
       "      <td>Male</td>\n",
       "      <td>40.0</td>\n",
       "      <td>0</td>\n",
       "      <td>0</td>\n",
       "      <td>Yes</td>\n",
       "      <td>Private</td>\n",
       "      <td>Rural</td>\n",
       "      <td>83.94</td>\n",
       "      <td>30.0</td>\n",
       "      <td>smokes</td>\n",
       "      <td>0</td>\n",
       "    </tr>\n",
       "    <tr>\n",
       "      <th>4980</th>\n",
       "      <td>Female</td>\n",
       "      <td>80.0</td>\n",
       "      <td>1</td>\n",
       "      <td>0</td>\n",
       "      <td>Yes</td>\n",
       "      <td>Private</td>\n",
       "      <td>Urban</td>\n",
       "      <td>83.75</td>\n",
       "      <td>29.1</td>\n",
       "      <td>never smoked</td>\n",
       "      <td>0</td>\n",
       "    </tr>\n",
       "  </tbody>\n",
       "</table>\n",
       "<p>4981 rows × 11 columns</p>\n",
       "</div>"
      ],
      "text/plain": [
       "      gender   age  hypertension  heart_disease ever_married      work_type  \\\n",
       "0       Male  67.0             0              1          Yes        Private   \n",
       "1       Male  80.0             0              1          Yes        Private   \n",
       "2     Female  49.0             0              0          Yes        Private   \n",
       "3     Female  79.0             1              0          Yes  Self-employed   \n",
       "4       Male  81.0             0              0          Yes        Private   \n",
       "...      ...   ...           ...            ...          ...            ...   \n",
       "4976    Male  41.0             0              0           No        Private   \n",
       "4977    Male  40.0             0              0          Yes        Private   \n",
       "4978  Female  45.0             1              0          Yes       Govt_job   \n",
       "4979    Male  40.0             0              0          Yes        Private   \n",
       "4980  Female  80.0             1              0          Yes        Private   \n",
       "\n",
       "     Residence_type  avg_glucose_level   bmi   smoking_status  stroke  \n",
       "0             Urban             228.69  36.6  formerly smoked       1  \n",
       "1             Rural             105.92  32.5     never smoked       1  \n",
       "2             Urban             171.23  34.4           smokes       1  \n",
       "3             Rural             174.12  24.0     never smoked       1  \n",
       "4             Urban             186.21  29.0  formerly smoked       1  \n",
       "...             ...                ...   ...              ...     ...  \n",
       "4976          Rural              70.15  29.8  formerly smoked       0  \n",
       "4977          Urban             191.15  31.1           smokes       0  \n",
       "4978          Rural              95.02  31.8           smokes       0  \n",
       "4979          Rural              83.94  30.0           smokes       0  \n",
       "4980          Urban              83.75  29.1     never smoked       0  \n",
       "\n",
       "[4981 rows x 11 columns]"
      ]
     },
     "execution_count": 9,
     "metadata": {},
     "output_type": "execute_result"
    }
   ],
   "source": [
    "all_data"
   ]
  },
  {
   "cell_type": "code",
   "execution_count": 10,
   "metadata": {
    "execution": {
     "iopub.execute_input": "2022-08-05T10:32:09.67982Z",
     "iopub.status.busy": "2022-08-05T10:32:09.679432Z",
     "iopub.status.idle": "2022-08-05T10:32:09.689418Z",
     "shell.execute_reply": "2022-08-05T10:32:09.688443Z",
     "shell.execute_reply.started": "2022-08-05T10:32:09.679789Z"
    }
   },
   "outputs": [],
   "source": [
    "target = 'stroke'\n",
    "X = all_data.loc[:,all_data.columns!=target]\n",
    "y = all_data.loc[:,all_data.columns==target]"
   ]
  },
  {
   "cell_type": "code",
   "execution_count": 11,
   "metadata": {
    "execution": {
     "iopub.execute_input": "2022-08-05T10:32:09.715847Z",
     "iopub.status.busy": "2022-08-05T10:32:09.715444Z",
     "iopub.status.idle": "2022-08-05T10:32:09.734963Z",
     "shell.execute_reply": "2022-08-05T10:32:09.734017Z",
     "shell.execute_reply.started": "2022-08-05T10:32:09.715815Z"
    }
   },
   "outputs": [],
   "source": [
    "columns = ['gender', 'age', 'hypertension', 'heart_disease', 'ever_married',\n",
    "       'work_type', 'Residence_type', 'avg_glucose_level', 'bmi',\n",
    "       'smoking_status']\n",
    "X = pd.get_dummies(X[columns])"
   ]
  },
  {
   "cell_type": "code",
   "execution_count": 12,
   "metadata": {
    "execution": {
     "iopub.execute_input": "2022-08-05T10:32:09.799681Z",
     "iopub.status.busy": "2022-08-05T10:32:09.798414Z",
     "iopub.status.idle": "2022-08-05T10:32:09.929878Z",
     "shell.execute_reply": "2022-08-05T10:32:09.928589Z",
     "shell.execute_reply.started": "2022-08-05T10:32:09.799628Z"
    }
   },
   "outputs": [
    {
     "name": "stdout",
     "output_type": "stream",
     "text": [
      "0    4733\n",
      "1     248\n",
      "Name: stroke, dtype: int64\n"
     ]
    },
    {
     "data": {
      "image/png": "[encoded data removed]",
      "text/plain": [
       "<Figure size 432x288 with 1 Axes>"
      ]
     },
     "metadata": {},
     "output_type": "display_data"
    }
   ],
   "source": [
    "ax = sns.countplot(x=target,data=all_data)\n",
    "print(all_data[target].value_counts())"
   ]
  },
  {
   "cell_type": "markdown",
   "metadata": {},
   "source": [
    "**There is an oversampling in the dataset. There is a big difference between those who do not have a stroke and those who do.**"
   ]
  },
  {
   "cell_type": "code",
   "execution_count": 13,
   "metadata": {
    "execution": {
     "iopub.execute_input": "2022-08-05T10:32:09.935617Z",
     "iopub.status.busy": "2022-08-05T10:32:09.935051Z",
     "iopub.status.idle": "2022-08-05T10:32:09.943594Z",
     "shell.execute_reply": "2022-08-05T10:32:09.9424Z",
     "shell.execute_reply.started": "2022-08-05T10:32:09.935582Z"
    }
   },
   "outputs": [
    {
     "data": {
      "text/plain": [
       "95.0210801043967"
      ]
     },
     "execution_count": 13,
     "metadata": {},
     "output_type": "execute_result"
    }
   ],
   "source": [
    "percentage_no_stroke = 100*(4733/float(all_data.shape[0]))\n",
    "percentage_no_stroke"
   ]
  },
  {
   "cell_type": "code",
   "execution_count": 14,
   "metadata": {
    "execution": {
     "iopub.execute_input": "2022-08-05T10:32:09.946499Z",
     "iopub.status.busy": "2022-08-05T10:32:09.945575Z",
     "iopub.status.idle": "2022-08-05T10:32:09.956892Z",
     "shell.execute_reply": "2022-08-05T10:32:09.955697Z",
     "shell.execute_reply.started": "2022-08-05T10:32:09.946447Z"
    }
   },
   "outputs": [
    {
     "data": {
      "text/plain": [
       "4.978919895603292"
      ]
     },
     "execution_count": 14,
     "metadata": {},
     "output_type": "execute_result"
    }
   ],
   "source": [
    "percentage_yes_stroke = 100*(248/float(all_data.shape[0]))\n",
    "percentage_yes_stroke"
   ]
  },
  {
   "cell_type": "code",
   "execution_count": 18,
   "metadata": {
    "execution": {
     "iopub.execute_input": "2022-08-05T10:32:09.986799Z",
     "iopub.status.busy": "2022-08-05T10:32:09.985587Z",
     "iopub.status.idle": "2022-08-05T10:32:10.021465Z",
     "shell.execute_reply": "2022-08-05T10:32:10.019458Z",
     "shell.execute_reply.started": "2022-08-05T10:32:09.986757Z"
    }
   },
   "outputs": [],
   "source": [
    "import seaborn as sns\n",
    "from sklearn.datasets import make_classification\n",
    "from imblearn.over_sampling import SMOTE\n",
    "\n",
    "oversample = SMOTE()\n",
    "X, y = oversample.fit_resample(X, y)"
   ]
  },
  {
   "cell_type": "code",
   "execution_count": 19,
   "metadata": {
    "execution": {
     "iopub.execute_input": "2022-08-05T10:32:10.052871Z",
     "iopub.status.busy": "2022-08-05T10:32:10.051889Z",
     "iopub.status.idle": "2022-08-05T10:32:10.212069Z",
     "shell.execute_reply": "2022-08-05T10:32:10.210195Z",
     "shell.execute_reply.started": "2022-08-05T10:32:10.052796Z"
    }
   },
   "outputs": [
    {
     "name": "stdout",
     "output_type": "stream",
     "text": [
      "1    4733\n",
      "0    4733\n",
      "Name: stroke, dtype: int64\n"
     ]
    },
    {
     "data": {
      "image/png": "[encoded data removed]",
      "text/plain": [
       "<Figure size 432x288 with 1 Axes>"
      ]
     },
     "metadata": {},
     "output_type": "display_data"
    }
   ],
   "source": [
    "ax = sns.countplot(x=target,data=y)\n",
    "print(y[target].value_counts())"
   ]
  },
  {
   "cell_type": "markdown",
   "metadata": {},
   "source": [
    "# Now we have a balanced dataset"
   ]
  },
  {
   "cell_type": "code",
   "execution_count": 20,
   "metadata": {
    "execution": {
     "iopub.execute_input": "2022-08-05T10:32:10.215874Z",
     "iopub.status.busy": "2022-08-05T10:32:10.215059Z",
     "iopub.status.idle": "2022-08-05T10:32:10.227957Z",
     "shell.execute_reply": "2022-08-05T10:32:10.226897Z",
     "shell.execute_reply.started": "2022-08-05T10:32:10.215824Z"
    }
   },
   "outputs": [],
   "source": [
    "from sklearn.model_selection import train_test_split\n",
    "\n",
    "X_train, X_test, Y_train, Y_test = train_test_split(X,y, test_size=0.20, shuffle=True)"
   ]
  },
  {
   "cell_type": "markdown",
   "metadata": {},
   "source": [
    "# MODEL BUILDING"
   ]
  },
  {
   "cell_type": "markdown",
   "metadata": {},
   "source": [
    "**RANDOM FOREST**"
   ]
  },
  {
   "cell_type": "code",
   "execution_count": 21,
   "metadata": {
    "execution": {
     "iopub.execute_input": "2022-08-05T10:32:10.230234Z",
     "iopub.status.busy": "2022-08-05T10:32:10.229595Z",
     "iopub.status.idle": "2022-08-05T10:32:10.237452Z",
     "shell.execute_reply": "2022-08-05T10:32:10.235315Z",
     "shell.execute_reply.started": "2022-08-05T10:32:10.230199Z"
    }
   },
   "outputs": [],
   "source": [
    "from sklearn.ensemble import RandomForestClassifier\n",
    "\n",
    "def rf(X_train, Y_train, n_estimators=250):\n",
    " rndforest = RandomForestClassifier(n_estimators=n_estimators, n_jobs=-1)\n",
    " rndforest.fit(X_train, Y_train)\n",
    " return rndforest"
   ]
  },
  {
   "cell_type": "code",
   "execution_count": 22,
   "metadata": {
    "execution": {
     "iopub.execute_input": "2022-08-05T10:32:10.243666Z",
     "iopub.status.busy": "2022-08-05T10:32:10.242488Z",
     "iopub.status.idle": "2022-08-05T10:32:11.572958Z",
     "shell.execute_reply": "2022-08-05T10:32:11.571947Z",
     "shell.execute_reply.started": "2022-08-05T10:32:10.243594Z"
    }
   },
   "outputs": [],
   "source": [
    "random_forest_en = rf(X_train,Y_train.values.ravel(), n_estimators=250)"
   ]
  },
  {
   "cell_type": "code",
   "execution_count": 23,
   "metadata": {
    "execution": {
     "iopub.execute_input": "2022-08-05T10:32:11.575102Z",
     "iopub.status.busy": "2022-08-05T10:32:11.574736Z",
     "iopub.status.idle": "2022-08-05T10:32:12.096268Z",
     "shell.execute_reply": "2022-08-05T10:32:12.094955Z",
     "shell.execute_reply.started": "2022-08-05T10:32:11.575072Z"
    }
   },
   "outputs": [
    {
     "name": "stdout",
     "output_type": "stream",
     "text": [
      "TRAINING ACCURACY: 1.0\n",
      "VALIDATION ACCURACY 0.9714889123548046\n"
     ]
    }
   ],
   "source": [
    "print(\"TRAINING ACCURACY:\", random_forest_en.score(X_train, Y_train))\n",
    "print(\"VALIDATION ACCURACY\", random_forest_en.score(X_test, Y_test))"
   ]
  },
  {
   "cell_type": "code",
   "execution_count": 24,
   "metadata": {
    "execution": {
     "iopub.execute_input": "2022-08-05T10:32:12.098131Z",
     "iopub.status.busy": "2022-08-05T10:32:12.09778Z",
     "iopub.status.idle": "2022-08-05T10:32:12.106092Z",
     "shell.execute_reply": "2022-08-05T10:32:12.102788Z",
     "shell.execute_reply.started": "2022-08-05T10:32:12.098101Z"
    }
   },
   "outputs": [],
   "source": [
    "from matplotlib import pyplot as plt"
   ]
  },
  {
   "cell_type": "code",
   "execution_count": 25,
   "metadata": {
    "execution": {
     "iopub.execute_input": "2022-08-05T10:32:12.111574Z",
     "iopub.status.busy": "2022-08-05T10:32:12.110136Z",
     "iopub.status.idle": "2022-08-05T10:32:12.124767Z",
     "shell.execute_reply": "2022-08-05T10:32:12.123867Z",
     "shell.execute_reply.started": "2022-08-05T10:32:12.11152Z"
    }
   },
   "outputs": [],
   "source": [
    "import itertools\n",
    "def plot_confusion_matrix(model, X, y, class_names, file_name,\n",
    "                          normalize=False,\n",
    "                          title='CONFUSION MATRIX',\n",
    "                          cmap=plt.cm.Greys):\n",
    "    y_pred = model.predict(X)\n",
    "    # Compute confusion matrix\n",
    "    cnf_matrix  = confusion_matrix(y, y_pred)\n",
    "    np.set_printoptions(precision=1)\n",
    "    plt.figure(figsize=(18, 16))\n",
    "\n",
    "    if normalize:\n",
    "        cnf_matrix = cnf_matrix.astype('float') / cnf_matrix.sum(axis=1)[:, np.newaxis]\n",
    "        print(\"CONFUSION MATRIX\")\n",
    "    else:\n",
    "        print('CONFUSION MATRIX')\n",
    "\n",
    "    plt.imshow(cnf_matrix, interpolation='nearest', cmap=cmap)\n",
    "    plt.title('CONFUSION MATRIX')\n",
    "    plt.colorbar()\n",
    "    tick_marks = np.arange(len(class_names))\n",
    "    plt.xticks(tick_marks, class_names, rotation=90)\n",
    "    plt.yticks(tick_marks, class_names)\n",
    "\n",
    "    fmt = '.2f' if normalize else 'd'\n",
    "    thresh = cnf_matrix.max() / 2.\n",
    "    for i, j in itertools.product(range(cnf_matrix.shape[0]), range(cnf_matrix.shape[1])):\n",
    "        plt.text(j, i, format(cnf_matrix[i, j], fmt),\n",
    "                 horizontalalignment=\"center\",\n",
    "                 color=\"white\" if cnf_matrix[i, j] > thresh else \"black\")\n",
    "\n",
    "    plt.ylabel('CLASS')\n",
    "    plt.xlabel('PREDICTED CLASS')\n",
    "    plt.tight_layout()\n",
    "    plt.savefig(file_name+'.png')\n",
    "    plt.show()"
   ]
  },
  {
   "cell_type": "markdown",
   "metadata": {},
   "source": [
    "# TRAIN CONFUSION MATRIX"
   ]
  },
  {
   "cell_type": "code",
   "execution_count": 26,
   "metadata": {
    "execution": {
     "iopub.execute_input": "2022-08-05T10:32:12.127569Z",
     "iopub.status.busy": "2022-08-05T10:32:12.126536Z",
     "iopub.status.idle": "2022-08-05T10:32:13.171309Z",
     "shell.execute_reply": "2022-08-05T10:32:13.17008Z",
     "shell.execute_reply.started": "2022-08-05T10:32:12.127511Z"
    }
   },
   "outputs": [
    {
     "name": "stdout",
     "output_type": "stream",
     "text": [
      "CONFUSION MATRIX\n"
     ]
    },
    {
     "name": "stderr",
     "output_type": "stream",
     "text": [
      "C:\\Users\\VINUTHA\\AppData\\Local\\Temp\\ipykernel_4076\\1605104652.py:20: MatplotlibDeprecationWarning: Auto-removal of grids by pcolor() and pcolormesh() is deprecated since 3.5 and will be removed two minor releases later; please call grid(False) first.\n",
      "  plt.colorbar()\n"
     ]
    },
    {
     "data": {
      "image/png": "[encoded data removed]",
      "text/plain": [
       "<Figure size 1296x1152 with 2 Axes>"
      ]
     },
     "metadata": {},
     "output_type": "display_data"
    }
   ],
   "source": [
    "from sklearn.metrics import confusion_matrix\n",
    "\n",
    "LABELS = ['STROKE', 'NO_STROKE']\n",
    "plot_confusion_matrix(random_forest_en, X_train, Y_train, class_names=LABELS, file_name='ConfussionMatrix', normalize=True)"
   ]
  },
  {
   "cell_type": "markdown",
   "metadata": {},
   "source": [
    "# TTEST CONFUSION MATRIX"
   ]
  },
  {
   "cell_type": "code",
   "execution_count": 27,
   "metadata": {
    "execution": {
     "iopub.execute_input": "2022-08-05T10:32:13.173878Z",
     "iopub.status.busy": "2022-08-05T10:32:13.173077Z",
     "iopub.status.idle": "2022-08-05T10:32:14.10694Z",
     "shell.execute_reply": "2022-08-05T10:32:14.105625Z",
     "shell.execute_reply.started": "2022-08-05T10:32:13.173842Z"
    }
   },
   "outputs": [
    {
     "name": "stdout",
     "output_type": "stream",
     "text": [
      "CONFUSION MATRIX\n"
     ]
    },
    {
     "name": "stderr",
     "output_type": "stream",
     "text": [
      "C:\\Users\\VINUTHA\\AppData\\Local\\Temp\\ipykernel_4076\\1605104652.py:20: MatplotlibDeprecationWarning: Auto-removal of grids by pcolor() and pcolormesh() is deprecated since 3.5 and will be removed two minor releases later; please call grid(False) first.\n",
      "  plt.colorbar()\n"
     ]
    },
    {
     "data": {
      "image/png": "[encoded data removed]",
      "text/plain": [
       "<Figure size 1296x1152 with 2 Axes>"
      ]
     },
     "metadata": {},
     "output_type": "display_data"
    }
   ],
   "source": [
    "plot_confusion_matrix(random_forest_en, X_test, Y_test, class_names=LABELS, file_name='ConfussionMatrix', normalize=True)"
   ]
  },
  {
   "cell_type": "code",
   "execution_count": null,
   "metadata": {},
   "outputs": [],
   "source": []
  }
 ],
 "metadata": {
  "kernelspec": {
   "display_name": "Python 3 (ipykernel)",
   "language": "python",
   "name": "python3"
  },
  "language_info": {
   "codemirror_mode": {
    "name": "ipython",
    "version": 3
   },
   "file_extension": ".py",
   "mimetype": "text/x-python",
   "name": "python",
   "nbconvert_exporter": "python",
   "pygments_lexer": "ipython3",
   "version": "3.9.12"
  }
 },
 "nbformat": 4,
 "nbformat_minor": 4
}
